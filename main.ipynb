{
 "cells": [
  {
   "cell_type": "code",
   "execution_count": 1,
   "id": "cc8a0770",
   "metadata": {},
   "outputs": [],
   "source": [
    "# Loading dependencies\n",
    "import torch\n",
    "import torch.nn as nn\n",
    "import numpy as np\n",
    "import matplotlib.pyplot as plt\n",
    "import torchvision\n",
    "import torchvision.transforms as transforms\n",
    "\n",
    "from IPython.core.display import HTML\n",
    "from imgaug import augmenters as iaa\n",
    "\n",
    "from ipywidgets import interact_manual\n",
    "import ipywidgets as widgets\n",
    "\n",
    "%matplotlib inline\n",
    "%load_ext autoreload\n",
    "%autoreload 2"
   ]
  },
  {
   "cell_type": "markdown",
   "id": "9769e3d2",
   "metadata": {},
   "source": [
    "# CS 182 Demo: Data Augmentations\n",
    "\n",
    "A theme that has been discussed throughout the discussion of machine learning and deep learning is regularization. Specifically in this class, we've covered adapting our models to make sure it does not overfit on training data -- that it generalizes well to unseen data. Many of the approaches discussed, such as batch normalization, layer normalization, and dropoout involve tuning and adjusting the inner workings of our deep learning architectures. However, data augmentation provides a different approach to regularizing our models. When working with image data & object detection tasks, a primary goal of developing practical and strong Convolutional Neural Networks (CNNs) is to provide an architecture that has invariances built into it.\n",
    "\n",
    "\n",
    "## Part 1: Data Augmentation in Theory\n",
    "\n",
    "Regularization is necessary for deep learning models to generalize well to unseen data (usually test data). It can be introduced into models through explicit methods such as a weighted $L_{1}$ or $L_{2}$ penalty, for example, in addition to the loss function. However, regularization can also be introduced implicitly into the model through data augmentation.\n",
    "\n",
    "Consider an edge or a pattern that exists consistently appears near the center of an image in a subset of the training data. For example, this might be the stripes of a tiger, where all the images in the subset of training data contains a centered tiger. The model, in this case consider a CNN, will latch onto that edge or pattern as it is designed to do. Due to translational/equivariance invariance, the model should be able to detect if the tiger and its stripes were shifted around the image, thus providing the model with information to inform its prediction (ideally, that would be 'tiger').\n",
    "\n",
    "However, in practicality, images are not always as clean cut as the well defined and plucked training examples in datasets in CIFAR-10. The quality of the image could be poor (bluriness) resulting in the model poorly identifying features, or a glare in the picture distracts the model from important patterns and edges that result in a correct classification. It might even be possible that the subset of tiger images are entirely centered on a docile tiger standing horizontally, meaning a rotated or 'active' tiger may result in a misclassification.\n",
    "\n",
    "Thus, data augmentation during training provides a way of implicitly regularizing the model by artifically creating data or scenarios that could be realistically seen in the real world. These data augmentations force the model to adapt to these changes by relying less on exploiting a few textures or patterns, but rather combinations or a significant amount of features.\n",
    "\n",
    "\n",
    "Data augmentation is also an avenue for domain knowledge to be exploited to help produce more accurate while still robust models. Experts and scientists can provide encodings of what is important via domain emphasis by selecting data augmentations that accurately represent what the model may encounter post-training."
   ]
  },
  {
   "cell_type": "markdown",
   "id": "8884bae0",
   "metadata": {},
   "source": [
    "## Part 2: Basic Augmentations\n",
    "\n",
    "These augmentations are used to promote invariance to small semantically insignificant changes.\n",
    "\n",
    "A few basic augmentations are:\n",
    "1. Random Cropping\n",
    "2. Rescaling\n",
    "3. Rotations\n",
    "3. Subset\n",
    "4. Color Adjustment\n",
    "5. Blurring\n",
    "\n",
    "The basic augmentations included in the lecture are:\n",
    "1. `autocontrast`\n",
    "2. `equalize`\n",
    "3. `posterize`\n",
    "4. `rotate`\n",
    "5. `solarize`\n",
    "6. `shear_{x, y}`\n",
    "7. `translate_{x, y}`\n",
    "8. `color`\n",
    "9. `contrast`\n",
    "10. `brightness`\n",
    "11. `sharpness`"
   ]
  },
  {
   "cell_type": "markdown",
   "id": "a18365e4",
   "metadata": {},
   "source": [
    "### Using PyTorch for Data Augmentation\n",
    "\n",
    "There are many data augmentations that are implemented in the `torchvision.transforms` modules. Below are a few examples of common data augmentations used in basic ConvNets. Let's load in a sample image of a Golden Retriever to work with."
   ]
  },
  {
   "cell_type": "code",
   "execution_count": null,
   "id": "b8e61d95",
   "metadata": {},
   "outputs": [],
   "source": [
    "# Read in image as NumPy array\n",
    "dog = plt.imread(\"dog.jpg\")\n",
    "\n",
    "# Convert NumPy array to Tensor\n",
    "dog = torch.from_numpy(dog)\n",
    "\n",
    "plt.imshow(dog)\n",
    "plt.xticks([])\n",
    "plt.yticks([])\n",
    "plt.title(\"Original Image\");"
   ]
  },
  {
   "cell_type": "markdown",
   "id": "9561a1df",
   "metadata": {},
   "source": [
    "### Random Rotation\n",
    "Use the `transforms.RandomRotation` method to randomly rotate an image up to a certain degree."
   ]
  },
  {
   "cell_type": "code",
   "execution_count": null,
   "id": "5e46cbe7",
   "metadata": {},
   "outputs": [],
   "source": [
    "# Set maximum degree you'd like to rotate the image by\n",
    "MAX_DEGREE = 45\n",
    "\n",
    "# Rotate image using rotation transformation\n",
    "rotation = transforms.RandomRotation(degrees=MAX_DEGREE)\n",
    "dog_rotated = rotation(dog.permute(2,0,1)).permute(1,2,0)\n",
    "\n",
    "plt.imshow(dog_rotated);\n",
    "plt.xticks([])\n",
    "plt.yticks([])\n",
    "plt.title(\"Rotated Image\");"
   ]
  },
  {
   "cell_type": "markdown",
   "id": "b552fca8",
   "metadata": {},
   "source": [
    "### Random Crop\n",
    "Use the `transforms.RandomResizedCrop` method to crop the given image at a random location and then resize to match the original image size. Oftentimes, we fix our model architecture such that it always takes in the same size input image, thus it's important to resize after cropping."
   ]
  },
  {
   "cell_type": "code",
   "execution_count": null,
   "id": "00013699",
   "metadata": {},
   "outputs": [],
   "source": [
    "# Crop the input image based on crop size\n",
    "crop = transforms.RandomResizedCrop(size=dog.shape[:2])\n",
    "dog_cropped = crop(dog.permute(2,0,1)).permute(1,2,0)\n",
    "\n",
    "plt.imshow(dog_cropped);\n",
    "plt.xticks([])\n",
    "plt.yticks([]);\n",
    "plt.title(\"Cropped Image\");"
   ]
  },
  {
   "cell_type": "markdown",
   "id": "1c63f085",
   "metadata": {},
   "source": [
    "Notice that the image size before and after cropping is the same"
   ]
  },
  {
   "cell_type": "code",
   "execution_count": null,
   "id": "eeb87bf7",
   "metadata": {},
   "outputs": [],
   "source": [
    "print(f'Before Crop: {dog.shape}')\n",
    "print(f'After Crop: {dog_cropped.shape}')"
   ]
  },
  {
   "cell_type": "markdown",
   "id": "b642cb0e",
   "metadata": {},
   "source": [
    "### Gaussian Blur\n",
    "Use the `transforms.GaussianBlur` method to blur the image with randomly chosen Gaussian blur."
   ]
  },
  {
   "cell_type": "code",
   "execution_count": null,
   "id": "e2d697ad",
   "metadata": {},
   "outputs": [],
   "source": [
    "# Set kernel size and variance\n",
    "KERNEL_SIZE=13\n",
    "SIGMA_RANGE=(78,100)\n",
    "\n",
    "# Pass a Gaussian filter over the image\n",
    "blur = transforms.GaussianBlur(kernel_size=KERNEL_SIZE, sigma=SIGMA_RANGE)\n",
    "dog_blurred = blur(dog.permute(2,0,1)).permute(1,2,0)\n",
    "\n",
    "plt.imshow(dog_blurred);\n",
    "plt.xticks([])\n",
    "plt.yticks([])\n",
    "plt.title(\"Blurred Image\");"
   ]
  },
  {
   "cell_type": "markdown",
   "id": "e68d0120",
   "metadata": {},
   "source": [
    "<div class=\"alert alert-info\"> <b>Try it out:</b> Play around with the <code>KERNEL_SIZE</code> and <code>SIGMA_RANGE</code> variables. How do both the kernel size and the sigma value affect the resulting blur?</div>"
   ]
  },
  {
   "cell_type": "markdown",
   "id": "2ff78fc0",
   "metadata": {},
   "source": [
    "### Posterize\n",
    "\n",
    "Use the `transforms.RandomPosterize` to posterize the image randomly with a given probability by reducing the number of bits for each color channel."
   ]
  },
  {
   "cell_type": "code",
   "execution_count": null,
   "id": "31f831dd",
   "metadata": {},
   "outputs": [],
   "source": [
    "# Set the posterizing parameters\n",
    "BITS = 2\n",
    "P = 1\n",
    "\n",
    "# Rotate image using rotation transformation\n",
    "posterize = transforms.RandomPosterize(bits=BITS, p=P)\n",
    "dog_posterized = posterize(dog.permute(2,0,1)).permute(1,2,0)\n",
    "\n",
    "plt.imshow(dog_posterized);\n",
    "plt.xticks([])\n",
    "plt.yticks([])\n",
    "plt.title(\"Posterized Image\");"
   ]
  },
  {
   "cell_type": "markdown",
   "id": "bf0677a7",
   "metadata": {},
   "source": [
    "# Part 3: Advanced Augmentations\n",
    "\n",
    "Advanced augmentations give more robustness to models."
   ]
  },
  {
   "cell_type": "markdown",
   "id": "88612a84",
   "metadata": {},
   "source": [
    "### Composing Multiple Augmentations \n",
    "\n",
    "As machine learning practitioners, we've found that composing multiple data augmentations together, most often within a PyTorch `DataSet`, helps to improve performance and regularizes the model. Below is an example of one such composition of basic data augmentations."
   ]
  },
  {
   "cell_type": "code",
   "execution_count": null,
   "id": "8262d549",
   "metadata": {},
   "outputs": [],
   "source": [
    "composed_transform = transforms.Compose([\n",
    "        transforms.RandomRotation(degrees=20),\n",
    "        transforms.RandomVerticalFlip(p=0.3),\n",
    "        transforms.GaussianBlur(kernel_size=13, sigma=7),\n",
    "        transforms.RandomPosterize(bits=3, p=0.9),\n",
    "        transforms.ColorJitter(brightness=0.3, contrast=0.3),\n",
    "        ])\n",
    "dog_augmented = composed_transform(dog.permute(2,0,1)).permute(1,2,0)\n",
    "\n",
    "plt.imshow(dog_augmented)\n",
    "plt.xticks([])\n",
    "plt.yticks([])\n",
    "plt.title(\"Augmented Image\");"
   ]
  },
  {
   "cell_type": "markdown",
   "id": "004bb33b",
   "metadata": {},
   "source": [
    "### More Aggressive Data Augmentations\n",
    "\n",
    "As shown in lecture, there are several more aggressive data augmentations that are used in practice. Empircally, they are found to have a regularizing effect on the model. Some examples are below:\n",
    "\n",
    "<img src=\"./augmentations.png\" width=\"800px\" align=\"left\"></img>"
   ]
  },
  {
   "cell_type": "markdown",
   "id": "64982913",
   "metadata": {},
   "source": [
    "1. Cutout\n",
    "2. Mixup\n",
    "3. CutMix\n",
    "4. <a href=\"https://arxiv.org/pdf/2112.05135.pdf\">PixMix</a>"
   ]
  },
  {
   "cell_type": "markdown",
   "id": "c7689044",
   "metadata": {},
   "source": [
    "### PixMix\n",
    "\n",
    "The PixMix data augmentation strategy comes from the 2022 paper [PIXMIX: Dreamlike Pictures\n",
    "Comprehensively Improve Safety Measures](https://arxiv.org/pdf/2112.05135.pdf).\n",
    "\n",
    "<img src=\"./pixmix.png\" width=\"800px\" align=\"left\"></img>"
   ]
  },
  {
   "cell_type": "markdown",
   "id": "c67dfc68",
   "metadata": {},
   "source": [
    "The following is an excerpt from the original PIXMIX paper describing the above image:\n",
    "> An instance of a PIXMIX augmentation being applied to a bird image. The original clean image is mixed with augmented\n",
    "versions of itself and an image such as a fractal. Bottom: Sample images from the PIXMIX mixing set. We select fractals and feature\n",
    "visualizations from manually curated online sources. In ablations, we find that these new sources of visual structure for augmentations\n",
    "outperform numerous synthetic image distributions explored in prior work [2].\""
   ]
  },
  {
   "cell_type": "markdown",
   "id": "0eea9f08",
   "metadata": {},
   "source": [
    "## Part 4: Augmentations in Practice"
   ]
  },
  {
   "cell_type": "markdown",
   "id": "30324fbc",
   "metadata": {},
   "source": [
    "### Loading the Model Architecture\n",
    "\n",
    "Let us utilize the AlexNet architecture. The AlexNet architecture consists of five convolutional layers, five ReLU (activation) layers, three max pooling layers, followed by a multi layer perceptron (MLP) with dropout woven within. The AlexNet is a powerful architecture that has had success in object detection tasks within image data."
   ]
  },
  {
   "cell_type": "code",
   "execution_count": 2,
   "id": "196cdf46",
   "metadata": {},
   "outputs": [],
   "source": [
    "# Run the following cell to load in the model and visualize the architecture\n",
    "model = nn.Sequential(\n",
    "    nn.Conv2d(1, 6, 5), # (1, 28, 28) -> (6, 24, 24)\n",
    "    nn.ReLU(),\n",
    "    nn.Flatten(),\n",
    "    nn.Linear(6 * 24 * 24, 10),\n",
    ")"
   ]
  },
  {
   "cell_type": "markdown",
   "id": "f37163cf",
   "metadata": {},
   "source": [
    "### Loading the Data: CIFAR-10\n",
    "\n",
    "The CIFAR-10 dataset contains 45,000 images, each labeled as one of the following classes:\n",
    "\n",
    "0. airplane\t\t\t\t\t\t\t\t\t\t\n",
    "1. automobile\t\t\t\t\t\t\t\t\t\t\n",
    "2. bird\t\t\t\t\t\t\t\t\t\t\n",
    "3. cat\t\t\t\t\t\t\t\t\t\t\n",
    "4. deer\t\t\t\t\t\t\t\t\t\t\n",
    "5. dog\t\t\t\t\t\t\t\t\t\t\n",
    "6. frog\t\t\t\t\t\t\t\t\t\t\n",
    "7. horse\t\t\t\t\t\t\t\t\t\t\n",
    "8. ship\t\t\t\t\t\t\t\t\t\t\n",
    "9. truck\n",
    "\n",
    "The CIFAR-10 dataset is often used in training and evaluating models due to its large size, but also its simplicity due to its low number of classes"
   ]
  },
  {
   "cell_type": "code",
   "execution_count": 3,
   "id": "dd3c7b41",
   "metadata": {},
   "outputs": [],
   "source": [
    "train_dataset = torchvision.datasets.MNIST('./data', train=True, download=True,  # Downloads into a directory ../data\n",
    "                               transform=transforms.ToTensor())\n",
    "train_dataset, valid_dataset = torch.utils.data.random_split(train_dataset, \n",
    "                                                             [int(len(train_dataset)*0.8), int(len(train_dataset)*0.2)], \n",
    "                                                             generator=torch.Generator().manual_seed(42))\n",
    "test_dataset = torchvision.datasets.MNIST('./data', train=False, download=False,  # No need to download again\n",
    "                              transform=transforms.ToTensor())"
   ]
  },
  {
   "cell_type": "markdown",
   "id": "f1145c0f",
   "metadata": {},
   "source": [
    "### Defining our Training Loop"
   ]
  },
  {
   "cell_type": "code",
   "execution_count": 4,
   "id": "e971c6eb",
   "metadata": {},
   "outputs": [],
   "source": [
    "def run_training_loop(model, train_data, valid_data, batch_size=32, n_epochs=10, lr=1e-3, device='cpu'):\n",
    "    \"\"\"\n",
    "    Run a training loop based on the input model and associated parameters\n",
    "    \n",
    "    Parameters:\n",
    "        model: The input model to be trained\n",
    "        train_data: The training dataset\n",
    "        valid_data: The validation dataset\n",
    "        batch_size: Number of training points to include in batch\n",
    "        n_epochs: Number of epochs to train the model for\n",
    "        lr: Learning rate used in Adam optimizer\n",
    "        \n",
    "    \"\"\"\n",
    "    train_loader = torch.utils.data.DataLoader(train_data, batch_size=batch_size, shuffle=True)\n",
    "    valid_loader = torch.utils.data.DataLoader(valid_data, batch_size=batch_size, shuffle=True)\n",
    "    \n",
    "    model.to(device)\n",
    "\n",
    "    # Choose Adam as the optimizer\n",
    "    optimizer = torch.optim.Adam(model.parameters(), lr=lr)\n",
    "\n",
    "    # Use the cross entropy loss function\n",
    "    loss_fn = nn.CrossEntropyLoss()\n",
    "\n",
    "    # store metrics\n",
    "    train_loss_history = np.zeros([n_epochs, 1])\n",
    "    valid_accuracy_history = np.zeros([n_epochs, 1])\n",
    "    valid_loss_history = np.zeros([n_epochs, 1])\n",
    "\n",
    "    for epoch in range(n_epochs):\n",
    "\n",
    "        # Some layers, such as Dropout, behave differently during training\n",
    "        model.train()\n",
    "\n",
    "        train_loss = 0\n",
    "        for batch_idx, (data, target) in enumerate(train_loader):\n",
    "            \n",
    "            data, target = data.to(device), target.to(device)\n",
    "\n",
    "            # Erase accumulated gradients\n",
    "            optimizer.zero_grad()\n",
    "\n",
    "            # Forward pass\n",
    "            output = model(data)\n",
    "\n",
    "            # Calculate loss\n",
    "            loss = loss_fn(output, target)\n",
    "            train_loss += loss.item()\n",
    "\n",
    "            # Backward pass\n",
    "            loss.backward()\n",
    "            \n",
    "            # Weight update\n",
    "            optimizer.step()\n",
    "\n",
    "        train_loss_history[epoch] = train_loss / len(train_loader.dataset)\n",
    "\n",
    "        # Track loss each epoch\n",
    "        print('Train Epoch: %d  Average loss: %.4f' %\n",
    "              (epoch + 1,  train_loss_history[epoch]))\n",
    "\n",
    "        # Putting layers like Dropout into evaluation mode\n",
    "        model.eval()\n",
    "\n",
    "        valid_loss = 0\n",
    "        correct = 0\n",
    "\n",
    "        # Turning off automatic differentiation\n",
    "        with torch.no_grad():\n",
    "            for data, target in valid_loader:\n",
    "                data, target = data.to(device), target.to(device)\n",
    "                output = model(data)\n",
    "                valid_loss += loss_fn(output, target).item()  # Sum up batch loss\n",
    "                pred = output.argmax(dim=1, keepdim=True)  # Get the index of the max class score\n",
    "                correct += pred.eq(target.view_as(pred)).sum().item()\n",
    "\n",
    "        valid_loss_history[epoch] = valid_loss / len(valid_loader.dataset)\n",
    "        valid_accuracy_history[epoch] = correct / len(valid_loader.dataset)\n",
    "\n",
    "        print('Valid set: Average loss: %.4f, Accuracy: %d/%d (%.4f)\\n' %\n",
    "              (valid_loss_history[epoch], correct, len(valid_loader.dataset),\n",
    "              100. * valid_accuracy_history[epoch]))\n",
    "    \n",
    "    return model, train_loss_history, valid_loss_history, valid_accuracy_history"
   ]
  },
  {
   "cell_type": "code",
   "execution_count": 5,
   "id": "de090b95",
   "metadata": {},
   "outputs": [],
   "source": [
    "def test_performance(model, test_data, batch_size=32, device='cpu'):\n",
    "    \"\"\"\n",
    "    Test model performance on test dataset\n",
    "    \n",
    "    Parameters:\n",
    "        model: The model to be tested\n",
    "        test_data: The test dataset\n",
    "        batch_size: Number of training points to include in batch\n",
    "    \"\"\"\n",
    "    test_loader = torch.utils.data.DataLoader(test_data, batch_size=batch_size, shuffle=True) \n",
    "\n",
    "    # Putting layers like Dropout into evaluation mode\n",
    "    model.eval()\n",
    "    # Use the cross entropy loss function\n",
    "    loss_fn = nn.CrossEntropyLoss()\n",
    "    \n",
    "    # Send model to appropriate device\n",
    "    model.to(device)\n",
    "\n",
    "    test_loss = 0\n",
    "    correct = 0\n",
    "\n",
    "    # Turning off automatic differentiation\n",
    "    with torch.no_grad():\n",
    "        for data, target in test_loader:\n",
    "            data, target = data.to(device), target.to(device)\n",
    "            output = model(data)\n",
    "            test_loss += loss_fn(output, target).item()  # Sum up batch loss\n",
    "            pred = output.argmax(dim=1, keepdim=True)  # Get the index of the max class score\n",
    "            correct += pred.eq(target.view_as(pred)).sum().item()\n",
    "\n",
    "    test_loss /= len(test_loader.dataset)\n",
    "    test_accuracy = correct / len(test_loader.dataset)\n",
    "\n",
    "    print('Test set: Average loss: %.4f, Accuracy: %d/%d (%.4f)' %\n",
    "          (test_loss, correct, len(test_loader.dataset),\n",
    "          100. * test_accuracy))\n",
    "    return test_loss, test_accuracy"
   ]
  },
  {
   "cell_type": "code",
   "execution_count": null,
   "id": "6409f63b",
   "metadata": {},
   "outputs": [],
   "source": [
    "trained_model, train_loss_history, valid_loss_history, valid_accuracy_history = run_training_loop(\n",
    "                                                                                                model=model,\n",
    "                                                                                                train_data=train_dataset,\n",
    "                                                                                                valid_data=valid_dataset,\n",
    "                                                                                                batch_size=128,\n",
    "                                                                                                n_epochs=5,\n",
    "                                                                                                device='mps')"
   ]
  },
  {
   "cell_type": "code",
   "execution_count": null,
   "id": "a32f14c1",
   "metadata": {},
   "outputs": [],
   "source": [
    "fig, ax = plt.subplots(figsize=(10,6))\n",
    "ax.plot(train_loss_history, label='train')\n",
    "ax.plot(valid_loss_history, label='valid')\n",
    "ax.set_xlabel(\"Epoch Number\")\n",
    "ax.set_ylabel(\"Cross-Entropy Loss\")\n",
    "plt.title(\"Training and Validation Loss Curves\")\n",
    "plt.legend();"
   ]
  },
  {
   "cell_type": "code",
   "execution_count": null,
   "id": "45e4cca4",
   "metadata": {},
   "outputs": [],
   "source": [
    "# Check performance on unseen data\n",
    "test_performance(model, test_data=test_dataset)"
   ]
  },
  {
   "cell_type": "code",
   "execution_count": 6,
   "id": "e16a0521",
   "metadata": {},
   "outputs": [],
   "source": [
    "# Data augmentations\n",
    "composed_transform = transforms.Compose([\n",
    "        transforms.RandomRotation(degrees=10),\n",
    "        transforms.RandomVerticalFlip(p=0.1),\n",
    "        transforms.GaussianBlur(kernel_size=3, sigma=7),\n",
    "        transforms.ColorJitter(brightness=0.2, contrast=0.2),\n",
    "        ])\n",
    "\n",
    "\n",
    "aug_train_dataset = torchvision.datasets.MNIST('./data', train=True, download=True,  # Downloads into a directory ../data\n",
    "                               transform=transforms.ToTensor())\n",
    "aug_train_dataset, aug_valid_dataset = torch.utils.data.random_split(train_dataset, \n",
    "                                                             [int(len(train_dataset)*0.8), int(len(train_dataset)*0.2)], \n",
    "                                                             generator=torch.Generator().manual_seed(42))"
   ]
  },
  {
   "cell_type": "code",
   "execution_count": 7,
   "id": "39f637c0",
   "metadata": {},
   "outputs": [
    {
     "name": "stdout",
     "output_type": "stream",
     "text": [
      "Train Epoch: 1  Average loss: 0.0035\n",
      "Valid set: Average loss: 0.0022, Accuracy: 8809/9600 (91.7604)\n",
      "\n",
      "Train Epoch: 2  Average loss: 0.0019\n",
      "Valid set: Average loss: 0.0016, Accuracy: 9025/9600 (94.0104)\n",
      "\n",
      "Train Epoch: 3  Average loss: 0.0014\n",
      "Valid set: Average loss: 0.0013, Accuracy: 9172/9600 (95.5417)\n",
      "\n",
      "Train Epoch: 4  Average loss: 0.0011\n",
      "Valid set: Average loss: 0.0011, Accuracy: 9199/9600 (95.8229)\n",
      "\n",
      "Train Epoch: 5  Average loss: 0.0009\n",
      "Valid set: Average loss: 0.0009, Accuracy: 9272/9600 (96.5833)\n",
      "\n"
     ]
    }
   ],
   "source": [
    "trained_model, train_loss_history, valid_loss_history, valid_accuracy_history = run_training_loop(\n",
    "                                                                                                model=model,\n",
    "                                                                                                train_data=aug_train_dataset,\n",
    "                                                                                                valid_data=aug_valid_dataset,\n",
    "                                                                                                batch_size=128,\n",
    "                                                                                                n_epochs=5,\n",
    "                                                                                                device='mps')"
   ]
  },
  {
   "cell_type": "code",
   "execution_count": 8,
   "id": "273763ae",
   "metadata": {},
   "outputs": [
    {
     "name": "stdout",
     "output_type": "stream",
     "text": [
      "Test set: Average loss: 0.0033, Accuracy: 9711/10000 (97.1100)\n"
     ]
    },
    {
     "data": {
      "text/plain": [
       "(0.00332678182143718, 0.9711)"
      ]
     },
     "execution_count": 8,
     "metadata": {},
     "output_type": "execute_result"
    },
    {
     "data": {
      "image/png": "[encoded data removed]",
      "text/plain": [
       "<Figure size 720x432 with 1 Axes>"
      ]
     },
     "metadata": {
      "needs_background": "light"
     },
     "output_type": "display_data"
    }
   ],
   "source": [
    "fig, ax = plt.subplots(figsize=(10,6))\n",
    "ax.plot(train_loss_history, label='train')\n",
    "ax.plot(valid_loss_history, label='valid')\n",
    "ax.set_xlabel(\"Epoch Number\")\n",
    "ax.set_ylabel(\"Cross-Entropy Loss\")\n",
    "plt.title(\"Training and Validation Loss Curves\")\n",
    "plt.legend();\n",
    "\n",
    "# Check performance on unseen data\n",
    "test_performance(model, test_data=test_dataset)"
   ]
  }
 ],
 "metadata": {
  "kernelspec": {
   "display_name": "Python 3 (ipykernel)",
   "language": "python",
   "name": "python3"
  },
  "language_info": {
   "codemirror_mode": {
    "name": "ipython",
    "version": 3
   },
   "file_extension": ".py",
   "mimetype": "text/x-python",
   "name": "python",
   "nbconvert_exporter": "python",
   "pygments_lexer": "ipython3",
   "version": "3.9.11"
  }
 },
 "nbformat": 4,
 "nbformat_minor": 5
}
